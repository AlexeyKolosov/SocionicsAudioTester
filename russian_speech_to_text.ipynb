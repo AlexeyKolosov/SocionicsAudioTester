{
 "cells": [
  {
   "cell_type": "code",
   "execution_count": 6,
   "metadata": {},
   "outputs": [
    {
     "name": "stdout",
     "output_type": "stream",
     "text": [
      "SAY SOMETHING\n",
      "TIME OVER, THANKS\n",
      "TEXT:  сегодня пошёл снег и я забыл что было вчера\n"
     ]
    }
   ],
   "source": [
    "\n",
    "\n",
    "\n",
    "#==========================================================\n",
    "# # word lists intersections check:\n",
    "# for word_list_A in [WHITE_ETHICS_WORD_LIST, \n",
    "#                   BLACK_ETHICS_WORD_LIST, \n",
    "#                   WHITE_LOGICS_WORD_LIST, \n",
    "#                   BLACK_LOGICS_WORD_LIST, \n",
    "#                   WHITE_SENSORICS_WORD_LIST, \n",
    "#                   BLACK_SENSORICS_WORD_LIST, \n",
    "#                   WHITE_INTUITION_WORD_LIST, \n",
    "#                   BLACK_INTUITION_WORD_LIST]:\n",
    "#     for word_list_B in\n",
    "#==========================================================\n",
    "    \n"
   ]
  },
  {
   "cell_type": "code",
   "execution_count": null,
   "metadata": {},
   "outputs": [],
   "source": []
  },
  {
   "cell_type": "code",
   "execution_count": null,
   "metadata": {},
   "outputs": [],
   "source": []
  },
  {
   "cell_type": "code",
   "execution_count": null,
   "metadata": {},
   "outputs": [],
   "source": []
  }
 ],
 "metadata": {
  "kernelspec": {
   "display_name": "Python 3",
   "language": "python",
   "name": "python3"
  },
  "language_info": {
   "codemirror_mode": {
    "name": "ipython",
    "version": 3
   },
   "file_extension": ".py",
   "mimetype": "text/x-python",
   "name": "python",
   "nbconvert_exporter": "python",
   "pygments_lexer": "ipython3",
   "version": "3.6.6"
  }
 },
 "nbformat": 4,
 "nbformat_minor": 4
}
